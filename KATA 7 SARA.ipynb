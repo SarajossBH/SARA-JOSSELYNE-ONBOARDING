{
 "cells": [
  {
   "cell_type": "markdown",
   "metadata": {},
   "source": [
    "## **EJERCICIO 1: CREACIÓN DE UN BUCLE \"WHILE\"**"
   ]
  },
  {
   "cell_type": "markdown",
   "metadata": {},
   "source": [
    "1.- Declaramos variables:"
   ]
  },
  {
   "cell_type": "code",
   "execution_count": 12,
   "metadata": {},
   "outputs": [],
   "source": [
    "new_planet = ()\n",
    "planets = []\n"
   ]
  },
  {
   "cell_type": "markdown",
   "metadata": {},
   "source": [
    "2.- Escribe el ciclo while solicitado:"
   ]
  },
  {
   "cell_type": "code",
   "execution_count": 13,
   "metadata": {},
   "outputs": [
    {
     "name": "stdout",
     "output_type": "stream",
     "text": [
      "['TIERRA']\n",
      "['TIERRA', 'MARTE']\n",
      "['TIERRA', 'MARTE', 'JÚPITER']\n",
      "['TIERRA', 'MARTE', 'JÚPITER', 'MERCURIO']\n",
      "['TIERRA', 'MARTE', 'JÚPITER', 'MERCURIO', 'VENUS']\n",
      "['TIERRA', 'MARTE', 'JÚPITER', 'MERCURIO', 'VENUS', 'DONE']\n",
      "['TIERRA', 'MARTE', 'JÚPITER', 'MERCURIO', 'VENUS', 'DONE']\n"
     ]
    }
   ],
   "source": [
    "while new_planet != \"done\":\n",
    "    \n",
    "    new_planet = (input (\"ingrese el nombre de uno o varios planetas, al finalizar indiquelo escribiendo ¨done¨\"))\n",
    "    if new_planet != \"done\":\n",
    "        planets.append(new_planet)\n",
    "        print (planets)\n",
    "    else :\n",
    "        print (planets)"
   ]
  },
  {
   "cell_type": "markdown",
   "metadata": {},
   "source": [
    "## **EJERCICIO 2: CREACIÓN DE UN CICLO \"FOR\"**"
   ]
  },
  {
   "cell_type": "markdown",
   "metadata": {},
   "source": [
    "1.- Escribe tu ciclo for para iterar en una lista de planetas\n"
   ]
  },
  {
   "cell_type": "code",
   "execution_count": 14,
   "metadata": {},
   "outputs": [
    {
     "name": "stdout",
     "output_type": "stream",
     "text": [
      "TIERRA\n",
      "MARTE\n",
      "JÚPITER\n",
      "MERCURIO\n",
      "VENUS\n",
      "DONE\n"
     ]
    }
   ],
   "source": [
    "for planet in planets:\n",
    "    print(planet)"
   ]
  }
 ],
 "metadata": {
  "interpreter": {
   "hash": "780a354d57c8e214d9717ce5db3cb79ec448e2663d29d7e7694b88eee37d2c96"
  },
  "kernelspec": {
   "display_name": "Python 3.10.2 64-bit",
   "language": "python",
   "name": "python3"
  },
  "language_info": {
   "codemirror_mode": {
    "name": "ipython",
    "version": 3
   },
   "file_extension": ".py",
   "mimetype": "text/x-python",
   "name": "python",
   "nbconvert_exporter": "python",
   "pygments_lexer": "ipython3",
   "version": "3.10.2"
  },
  "orig_nbformat": 4
 },
 "nbformat": 4,
 "nbformat_minor": 2
}
